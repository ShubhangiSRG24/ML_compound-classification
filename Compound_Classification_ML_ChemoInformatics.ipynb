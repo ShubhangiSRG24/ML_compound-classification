{
  "cells": [
    {
      "cell_type": "markdown",
      "metadata": {
        "id": "view-in-github",
        "colab_type": "text"
      },
      "source": [
        "<a href=\"https://colab.research.google.com/github/ShubhangiSRG24/ML_compound-classification/blob/main/Compound_Classification_ML_ChemoInformatics.ipynb\" target=\"_parent\"><img src=\"https://colab.research.google.com/assets/colab-badge.svg\" alt=\"Open In Colab\"/></a>"
      ]
    },
    {
      "cell_type": "markdown",
      "metadata": {
        "id": "kIbQVlgjI_oH"
      },
      "source": [
        "## My implementation for compound classification"
      ]
    },
    {
      "cell_type": "markdown",
      "metadata": {
        "collapsed": false,
        "id": "gIpRPxucfxN9",
        "pycharm": {
          "name": "#%% md\n"
        }
      },
      "source": [
        "# Compound Classification\n",
        "\n",
        "Random Forest with the Morgan fingerprint as our feature vector."
      ]
    },
    {
      "cell_type": "code",
      "execution_count": null,
      "metadata": {
        "colab": {
          "base_uri": "https://localhost:8080/"
        },
        "id": "vbs64yIElHRM",
        "outputId": "1893f341-2ac3-49fb-b2b8-2e791144932f"
      },
      "outputs": [
        {
          "name": "stdout",
          "output_type": "stream",
          "text": [
            "Collecting rdkit\n",
            "  Downloading rdkit-2023.9.2-cp310-cp310-manylinux_2_17_x86_64.manylinux2014_x86_64.whl (30.5 MB)\n",
            "\u001b[2K     \u001b[90m━━━━━━━━━━━━━━━━━━━━━━━━━━━━━━━━━━━━━━━━\u001b[0m \u001b[32m30.5/30.5 MB\u001b[0m \u001b[31m49.6 MB/s\u001b[0m eta \u001b[36m0:00:00\u001b[0m\n",
            "\u001b[?25hRequirement already satisfied: numpy in /usr/local/lib/python3.10/dist-packages (from rdkit) (1.23.5)\n",
            "Requirement already satisfied: Pillow in /usr/local/lib/python3.10/dist-packages (from rdkit) (9.4.0)\n",
            "Installing collected packages: rdkit\n",
            "Successfully installed rdkit-2023.9.2\n"
          ]
        }
      ],
      "source": [
        "pip install rdkit"
      ]
    },
    {
      "cell_type": "code",
      "execution_count": null,
      "metadata": {
        "collapsed": true,
        "id": "PtlDQv-VfxN_"
      },
      "outputs": [],
      "source": [
        "import numpy as np\n",
        "import pandas as pd\n",
        "import rdkit.Chem as Chem\n",
        "import rdkit.Chem.AllChem as AllChem\n",
        "from sklearn.ensemble import RandomForestClassifier\n",
        "import sklearn.metrics as metrics"
      ]
    },
    {
      "cell_type": "markdown",
      "metadata": {
        "collapsed": false,
        "id": "0h2xPExHfxOA",
        "pycharm": {
          "name": "#%% md\n"
        }
      },
      "source": [
        "## Data\n",
        "\n",
        "Let's load the compound data file."
      ]
    },
    {
      "cell_type": "code",
      "execution_count": null,
      "metadata": {
        "colab": {
          "base_uri": "https://localhost:8080/",
          "height": 206
        },
        "id": "YSdHorKhfxOB",
        "outputId": "0f9a1b90-0c46-475d-8302-efc69300b61f",
        "pycharm": {
          "name": "#%%\n"
        }
      },
      "outputs": [
        {
          "data": {
            "text/html": [
              "\n",
              "  <div id=\"df-55a3bc66-e6bb-4f3b-ba03-8eec112373c0\" class=\"colab-df-container\">\n",
              "    <div>\n",
              "<style scoped>\n",
              "    .dataframe tbody tr th:only-of-type {\n",
              "        vertical-align: middle;\n",
              "    }\n",
              "\n",
              "    .dataframe tbody tr th {\n",
              "        vertical-align: top;\n",
              "    }\n",
              "\n",
              "    .dataframe thead th {\n",
              "        text-align: right;\n",
              "    }\n",
              "</style>\n",
              "<table border=\"1\" class=\"dataframe\">\n",
              "  <thead>\n",
              "    <tr style=\"text-align: right;\">\n",
              "      <th></th>\n",
              "      <th>inchikey</th>\n",
              "      <th>smiles</th>\n",
              "      <th>group</th>\n",
              "      <th>activity</th>\n",
              "    </tr>\n",
              "  </thead>\n",
              "  <tbody>\n",
              "    <tr>\n",
              "      <th>0</th>\n",
              "      <td>FNHKPVJBJVTLMP-UHFFFAOYSA-N</td>\n",
              "      <td>CNC(=O)c1cc(Oc2ccc(NC(=O)Nc3ccc(Cl)c(C(F)(F)F)...</td>\n",
              "      <td>train</td>\n",
              "      <td>active</td>\n",
              "    </tr>\n",
              "    <tr>\n",
              "      <th>1</th>\n",
              "      <td>CUDVHEFYRIWYQD-UHFFFAOYSA-N</td>\n",
              "      <td>CNC(=O)c1cccc2cc(Oc3ccnc4cc(OCC5(N)CC5)c(OC)cc...</td>\n",
              "      <td>train</td>\n",
              "      <td>active</td>\n",
              "    </tr>\n",
              "    <tr>\n",
              "      <th>2</th>\n",
              "      <td>TTZSNFLLYPYKIL-UHFFFAOYSA-N</td>\n",
              "      <td>Cc1cc2cc(Oc3ccnc(Nc4cccc(CS(=O)(=O)NCCN(C)C)c4...</td>\n",
              "      <td>test</td>\n",
              "      <td>active</td>\n",
              "    </tr>\n",
              "    <tr>\n",
              "      <th>3</th>\n",
              "      <td>UOVCGJXDGOGOCZ-UHFFFAOYSA-N</td>\n",
              "      <td>COc1cc2c(cc1F)C(c1ccccc1Cl)=Nc1c(n[nH]c1C)N2</td>\n",
              "      <td>train</td>\n",
              "      <td>active</td>\n",
              "    </tr>\n",
              "    <tr>\n",
              "      <th>4</th>\n",
              "      <td>CUIHSIWYWATEQL-UHFFFAOYSA-N</td>\n",
              "      <td>Cc1ccc(Nc2nccc(N(C)c3ccc4c(C)n(C)nc4c3)n2)cc1S...</td>\n",
              "      <td>test</td>\n",
              "      <td>active</td>\n",
              "    </tr>\n",
              "  </tbody>\n",
              "</table>\n",
              "</div>\n",
              "    <div class=\"colab-df-buttons\">\n",
              "\n",
              "  <div class=\"colab-df-container\">\n",
              "    <button class=\"colab-df-convert\" onclick=\"convertToInteractive('df-55a3bc66-e6bb-4f3b-ba03-8eec112373c0')\"\n",
              "            title=\"Convert this dataframe to an interactive table.\"\n",
              "            style=\"display:none;\">\n",
              "\n",
              "  <svg xmlns=\"http://www.w3.org/2000/svg\" height=\"24px\" viewBox=\"0 -960 960 960\">\n",
              "    <path d=\"M120-120v-720h720v720H120Zm60-500h600v-160H180v160Zm220 220h160v-160H400v160Zm0 220h160v-160H400v160ZM180-400h160v-160H180v160Zm440 0h160v-160H620v160ZM180-180h160v-160H180v160Zm440 0h160v-160H620v160Z\"/>\n",
              "  </svg>\n",
              "    </button>\n",
              "\n",
              "  <style>\n",
              "    .colab-df-container {\n",
              "      display:flex;\n",
              "      gap: 12px;\n",
              "    }\n",
              "\n",
              "    .colab-df-convert {\n",
              "      background-color: #E8F0FE;\n",
              "      border: none;\n",
              "      border-radius: 50%;\n",
              "      cursor: pointer;\n",
              "      display: none;\n",
              "      fill: #1967D2;\n",
              "      height: 32px;\n",
              "      padding: 0 0 0 0;\n",
              "      width: 32px;\n",
              "    }\n",
              "\n",
              "    .colab-df-convert:hover {\n",
              "      background-color: #E2EBFA;\n",
              "      box-shadow: 0px 1px 2px rgba(60, 64, 67, 0.3), 0px 1px 3px 1px rgba(60, 64, 67, 0.15);\n",
              "      fill: #174EA6;\n",
              "    }\n",
              "\n",
              "    .colab-df-buttons div {\n",
              "      margin-bottom: 4px;\n",
              "    }\n",
              "\n",
              "    [theme=dark] .colab-df-convert {\n",
              "      background-color: #3B4455;\n",
              "      fill: #D2E3FC;\n",
              "    }\n",
              "\n",
              "    [theme=dark] .colab-df-convert:hover {\n",
              "      background-color: #434B5C;\n",
              "      box-shadow: 0px 1px 3px 1px rgba(0, 0, 0, 0.15);\n",
              "      filter: drop-shadow(0px 1px 2px rgba(0, 0, 0, 0.3));\n",
              "      fill: #FFFFFF;\n",
              "    }\n",
              "  </style>\n",
              "\n",
              "    <script>\n",
              "      const buttonEl =\n",
              "        document.querySelector('#df-55a3bc66-e6bb-4f3b-ba03-8eec112373c0 button.colab-df-convert');\n",
              "      buttonEl.style.display =\n",
              "        google.colab.kernel.accessAllowed ? 'block' : 'none';\n",
              "\n",
              "      async function convertToInteractive(key) {\n",
              "        const element = document.querySelector('#df-55a3bc66-e6bb-4f3b-ba03-8eec112373c0');\n",
              "        const dataTable =\n",
              "          await google.colab.kernel.invokeFunction('convertToInteractive',\n",
              "                                                    [key], {});\n",
              "        if (!dataTable) return;\n",
              "\n",
              "        const docLinkHtml = 'Like what you see? Visit the ' +\n",
              "          '<a target=\"_blank\" href=https://colab.research.google.com/notebooks/data_table.ipynb>data table notebook</a>'\n",
              "          + ' to learn more about interactive tables.';\n",
              "        element.innerHTML = '';\n",
              "        dataTable['output_type'] = 'display_data';\n",
              "        await google.colab.output.renderOutput(dataTable, element);\n",
              "        const docLink = document.createElement('div');\n",
              "        docLink.innerHTML = docLinkHtml;\n",
              "        element.appendChild(docLink);\n",
              "      }\n",
              "    </script>\n",
              "  </div>\n",
              "\n",
              "\n",
              "<div id=\"df-bcbd15ec-bd05-4173-bba8-21be4094815b\">\n",
              "  <button class=\"colab-df-quickchart\" onclick=\"quickchart('df-bcbd15ec-bd05-4173-bba8-21be4094815b')\"\n",
              "            title=\"Suggest charts\"\n",
              "            style=\"display:none;\">\n",
              "\n",
              "<svg xmlns=\"http://www.w3.org/2000/svg\" height=\"24px\"viewBox=\"0 0 24 24\"\n",
              "     width=\"24px\">\n",
              "    <g>\n",
              "        <path d=\"M19 3H5c-1.1 0-2 .9-2 2v14c0 1.1.9 2 2 2h14c1.1 0 2-.9 2-2V5c0-1.1-.9-2-2-2zM9 17H7v-7h2v7zm4 0h-2V7h2v10zm4 0h-2v-4h2v4z\"/>\n",
              "    </g>\n",
              "</svg>\n",
              "  </button>\n",
              "\n",
              "<style>\n",
              "  .colab-df-quickchart {\n",
              "      --bg-color: #E8F0FE;\n",
              "      --fill-color: #1967D2;\n",
              "      --hover-bg-color: #E2EBFA;\n",
              "      --hover-fill-color: #174EA6;\n",
              "      --disabled-fill-color: #AAA;\n",
              "      --disabled-bg-color: #DDD;\n",
              "  }\n",
              "\n",
              "  [theme=dark] .colab-df-quickchart {\n",
              "      --bg-color: #3B4455;\n",
              "      --fill-color: #D2E3FC;\n",
              "      --hover-bg-color: #434B5C;\n",
              "      --hover-fill-color: #FFFFFF;\n",
              "      --disabled-bg-color: #3B4455;\n",
              "      --disabled-fill-color: #666;\n",
              "  }\n",
              "\n",
              "  .colab-df-quickchart {\n",
              "    background-color: var(--bg-color);\n",
              "    border: none;\n",
              "    border-radius: 50%;\n",
              "    cursor: pointer;\n",
              "    display: none;\n",
              "    fill: var(--fill-color);\n",
              "    height: 32px;\n",
              "    padding: 0;\n",
              "    width: 32px;\n",
              "  }\n",
              "\n",
              "  .colab-df-quickchart:hover {\n",
              "    background-color: var(--hover-bg-color);\n",
              "    box-shadow: 0 1px 2px rgba(60, 64, 67, 0.3), 0 1px 3px 1px rgba(60, 64, 67, 0.15);\n",
              "    fill: var(--button-hover-fill-color);\n",
              "  }\n",
              "\n",
              "  .colab-df-quickchart-complete:disabled,\n",
              "  .colab-df-quickchart-complete:disabled:hover {\n",
              "    background-color: var(--disabled-bg-color);\n",
              "    fill: var(--disabled-fill-color);\n",
              "    box-shadow: none;\n",
              "  }\n",
              "\n",
              "  .colab-df-spinner {\n",
              "    border: 2px solid var(--fill-color);\n",
              "    border-color: transparent;\n",
              "    border-bottom-color: var(--fill-color);\n",
              "    animation:\n",
              "      spin 1s steps(1) infinite;\n",
              "  }\n",
              "\n",
              "  @keyframes spin {\n",
              "    0% {\n",
              "      border-color: transparent;\n",
              "      border-bottom-color: var(--fill-color);\n",
              "      border-left-color: var(--fill-color);\n",
              "    }\n",
              "    20% {\n",
              "      border-color: transparent;\n",
              "      border-left-color: var(--fill-color);\n",
              "      border-top-color: var(--fill-color);\n",
              "    }\n",
              "    30% {\n",
              "      border-color: transparent;\n",
              "      border-left-color: var(--fill-color);\n",
              "      border-top-color: var(--fill-color);\n",
              "      border-right-color: var(--fill-color);\n",
              "    }\n",
              "    40% {\n",
              "      border-color: transparent;\n",
              "      border-right-color: var(--fill-color);\n",
              "      border-top-color: var(--fill-color);\n",
              "    }\n",
              "    60% {\n",
              "      border-color: transparent;\n",
              "      border-right-color: var(--fill-color);\n",
              "    }\n",
              "    80% {\n",
              "      border-color: transparent;\n",
              "      border-right-color: var(--fill-color);\n",
              "      border-bottom-color: var(--fill-color);\n",
              "    }\n",
              "    90% {\n",
              "      border-color: transparent;\n",
              "      border-bottom-color: var(--fill-color);\n",
              "    }\n",
              "  }\n",
              "</style>\n",
              "\n",
              "  <script>\n",
              "    async function quickchart(key) {\n",
              "      const quickchartButtonEl =\n",
              "        document.querySelector('#' + key + ' button');\n",
              "      quickchartButtonEl.disabled = true;  // To prevent multiple clicks.\n",
              "      quickchartButtonEl.classList.add('colab-df-spinner');\n",
              "      try {\n",
              "        const charts = await google.colab.kernel.invokeFunction(\n",
              "            'suggestCharts', [key], {});\n",
              "      } catch (error) {\n",
              "        console.error('Error during call to suggestCharts:', error);\n",
              "      }\n",
              "      quickchartButtonEl.classList.remove('colab-df-spinner');\n",
              "      quickchartButtonEl.classList.add('colab-df-quickchart-complete');\n",
              "    }\n",
              "    (() => {\n",
              "      let quickchartButtonEl =\n",
              "        document.querySelector('#df-bcbd15ec-bd05-4173-bba8-21be4094815b button');\n",
              "      quickchartButtonEl.style.display =\n",
              "        google.colab.kernel.accessAllowed ? 'block' : 'none';\n",
              "    })();\n",
              "  </script>\n",
              "</div>\n",
              "    </div>\n",
              "  </div>\n"
            ],
            "text/plain": [
              "                      inchikey  \\\n",
              "0  FNHKPVJBJVTLMP-UHFFFAOYSA-N   \n",
              "1  CUDVHEFYRIWYQD-UHFFFAOYSA-N   \n",
              "2  TTZSNFLLYPYKIL-UHFFFAOYSA-N   \n",
              "3  UOVCGJXDGOGOCZ-UHFFFAOYSA-N   \n",
              "4  CUIHSIWYWATEQL-UHFFFAOYSA-N   \n",
              "\n",
              "                                              smiles  group activity  \n",
              "0  CNC(=O)c1cc(Oc2ccc(NC(=O)Nc3ccc(Cl)c(C(F)(F)F)...  train   active  \n",
              "1  CNC(=O)c1cccc2cc(Oc3ccnc4cc(OCC5(N)CC5)c(OC)cc...  train   active  \n",
              "2  Cc1cc2cc(Oc3ccnc(Nc4cccc(CS(=O)(=O)NCCN(C)C)c4...   test   active  \n",
              "3       COc1cc2c(cc1F)C(c1ccccc1Cl)=Nc1c(n[nH]c1C)N2  train   active  \n",
              "4  Cc1ccc(Nc2nccc(N(C)c3ccc4c(C)n(C)nc4c3)n2)cc1S...   test   active  "
            ]
          },
          "execution_count": 4,
          "metadata": {},
          "output_type": "execute_result"
        }
      ],
      "source": [
        "cmpd_df = pd.read_csv('cmpd.csv')\n",
        "cmpd_df.head()"
      ]
    },
    {
      "cell_type": "code",
      "execution_count": null,
      "metadata": {
        "colab": {
          "base_uri": "https://localhost:8080/"
        },
        "id": "4Yuf96dVfxOB",
        "outputId": "87efe413-7687-43a3-984c-aa3207e7f1c5",
        "pycharm": {
          "name": "#%%\n"
        }
      },
      "outputs": [
        {
          "data": {
            "text/plain": [
              "(5530, 4)"
            ]
          },
          "execution_count": 4,
          "metadata": {},
          "output_type": "execute_result"
        }
      ],
      "source": [
        "cmpd_df.shape"
      ]
    },
    {
      "cell_type": "markdown",
      "metadata": {
        "collapsed": false,
        "id": "C2jfIz39fxOC",
        "pycharm": {
          "name": "#%% md\n"
        }
      },
      "source": [
        "There are 5530 compound samples with:\n",
        "* SMILES - 2D compound structure,\n",
        "* InChIKey - a hash from InChI,\n",
        "* group - a tag to split the dataset into train and test\n",
        "* activity - y label"
      ]
    },
    {
      "cell_type": "code",
      "execution_count": null,
      "metadata": {
        "id": "MHZGK-8hfxOC",
        "pycharm": {
          "name": "#%%\n"
        }
      },
      "outputs": [],
      "source": [
        "cmpd_df['mol'] = cmpd_df.smiles.apply(Chem.MolFromSmiles)"
      ]
    },
    {
      "cell_type": "code",
      "execution_count": null,
      "metadata": {
        "id": "h12Zbjj1fxOC",
        "pycharm": {
          "name": "#%%\n"
        }
      },
      "outputs": [],
      "source": [
        "# with minimal modification, we obtain the fingerprint vector using RDKit\n",
        "\n",
        "def get_Xy(df):\n",
        "    X = np.vstack(df.mol.apply(lambda m: list(AllChem.GetMorganFingerprintAsBitVect(m, 4, nBits=2048))))\n",
        "    y = df.activity.eq('active').astype(float).to_numpy()\n",
        "    return X, y"
      ]
    },
    {
      "cell_type": "code",
      "execution_count": null,
      "metadata": {
        "id": "jC4z80hQfxOD",
        "pycharm": {
          "name": "#%%\n"
        }
      },
      "outputs": [],
      "source": [
        "X_train, y_train = get_Xy(cmpd_df[cmpd_df.group.eq('train')])\n",
        "X_test, y_test = get_Xy(cmpd_df[cmpd_df.group.eq('test')])"
      ]
    },
    {
      "cell_type": "markdown",
      "metadata": {
        "collapsed": false,
        "id": "oZ548IlUfxOD",
        "pycharm": {
          "name": "#%% md\n"
        }
      },
      "source": [
        "#Random Forest\n",
        "\n",
        "RF is the simplest classifier for numerical feature vectors without much tuning."
      ]
    },
    {
      "cell_type": "code",
      "execution_count": null,
      "metadata": {
        "colab": {
          "base_uri": "https://localhost:8080/"
        },
        "id": "S20pm5P5fxOD",
        "outputId": "ef9f6e37-98bf-4540-fd60-a2d9688bde9d",
        "pycharm": {
          "name": "#%%\n"
        }
      },
      "outputs": [
        {
          "data": {
            "text/plain": [
              "0.8615582743077914"
            ]
          },
          "execution_count": 8,
          "metadata": {},
          "output_type": "execute_result"
        }
      ],
      "source": [
        "clf = RandomForestClassifier()\n",
        "clf.fit(X_train, y_train)\n",
        "clf.score(X_test, y_test)"
      ]
    },
    {
      "cell_type": "code",
      "execution_count": null,
      "metadata": {
        "id": "PqB-TEMNfxOD",
        "pycharm": {
          "name": "#%%\n"
        }
      },
      "outputs": [],
      "source": [
        "y_pred = clf.predict_proba(X_test)[:, 1]"
      ]
    },
    {
      "cell_type": "code",
      "execution_count": null,
      "metadata": {
        "colab": {
          "base_uri": "https://localhost:8080/"
        },
        "id": "GLwz1VFPfxOE",
        "outputId": "0efb1451-dbcd-46eb-8fe3-382043c271d5",
        "pycharm": {
          "name": "#%%\n"
        }
      },
      "outputs": [
        {
          "data": {
            "text/plain": [
              "0.42520158976799344"
            ]
          },
          "execution_count": 10,
          "metadata": {},
          "output_type": "execute_result"
        }
      ],
      "source": [
        "# logloss\n",
        "metrics.log_loss(y_test, y_pred, labels=[0, 1])"
      ]
    },
    {
      "cell_type": "code",
      "execution_count": null,
      "metadata": {
        "colab": {
          "base_uri": "https://localhost:8080/"
        },
        "id": "GHkBy5YMfxOE",
        "outputId": "1d5607a7-8d68-4144-9462-cc707362602f",
        "pycharm": {
          "name": "#%%\n"
        }
      },
      "outputs": [
        {
          "data": {
            "text/plain": [
              "0.8798927782587836"
            ]
          },
          "execution_count": 11,
          "metadata": {},
          "output_type": "execute_result"
        }
      ],
      "source": [
        "# AUC PRC\n",
        "precision, recall, _ = metrics.precision_recall_curve(y_test, y_pred, pos_label=1)\n",
        "metrics.auc(recall, precision)"
      ]
    },
    {
      "cell_type": "code",
      "execution_count": null,
      "metadata": {
        "colab": {
          "base_uri": "https://localhost:8080/"
        },
        "id": "3LwolZGNfxOE",
        "outputId": "1ee2941f-f269-4265-cc8c-3a87cf80ba84",
        "pycharm": {
          "name": "#%%\n"
        }
      },
      "outputs": [
        {
          "data": {
            "text/plain": [
              "0.8904297473028224"
            ]
          },
          "execution_count": 12,
          "metadata": {},
          "output_type": "execute_result"
        }
      ],
      "source": [
        "# AUC ROC\n",
        "fpr_roc, tpr_roc, _ = metrics.roc_curve(y_test, y_pred, pos_label=1)\n",
        "metrics.auc(fpr_roc, tpr_roc)"
      ]
    },
    {
      "cell_type": "markdown",
      "metadata": {
        "id": "cdnZJM-WmeY4"
      },
      "source": [
        "## Implementation --> Simple neural network model for binary classification implementation"
      ]
    },
    {
      "cell_type": "code",
      "execution_count": null,
      "metadata": {
        "colab": {
          "base_uri": "https://localhost:8080/"
        },
        "id": "3d4BTLhqUcsn",
        "outputId": "363617b1-106f-4d9b-8098-27d606a67bf9"
      },
      "outputs": [
        {
          "name": "stdout",
          "output_type": "stream",
          "text": [
            "Requirement already satisfied: torch in /usr/local/lib/python3.10/dist-packages (2.1.0+cu118)\n",
            "Collecting rdkit-pypi\n",
            "  Downloading rdkit_pypi-2022.9.5-cp310-cp310-manylinux_2_17_x86_64.manylinux2014_x86_64.whl (29.4 MB)\n",
            "\u001b[2K     \u001b[90m━━━━━━━━━━━━━━━━━━━━━━━━━━━━━━━━━━━━━━━━\u001b[0m \u001b[32m29.4/29.4 MB\u001b[0m \u001b[31m56.6 MB/s\u001b[0m eta \u001b[36m0:00:00\u001b[0m\n",
            "\u001b[?25hRequirement already satisfied: pandas in /usr/local/lib/python3.10/dist-packages (1.5.3)\n",
            "Requirement already satisfied: scikit-learn in /usr/local/lib/python3.10/dist-packages (1.2.2)\n",
            "Collecting torch-scatter\n",
            "  Downloading torch_scatter-2.1.2.tar.gz (108 kB)\n",
            "\u001b[2K     \u001b[90m━━━━━━━━━━━━━━━━━━━━━━━━━━━━━━━━━━━━━━━━\u001b[0m \u001b[32m108.0/108.0 kB\u001b[0m \u001b[31m12.7 MB/s\u001b[0m eta \u001b[36m0:00:00\u001b[0m\n",
            "\u001b[?25h  Preparing metadata (setup.py) ... \u001b[?25l\u001b[?25hdone\n",
            "Requirement already satisfied: filelock in /usr/local/lib/python3.10/dist-packages (from torch) (3.13.1)\n",
            "Requirement already satisfied: typing-extensions in /usr/local/lib/python3.10/dist-packages (from torch) (4.5.0)\n",
            "Requirement already satisfied: sympy in /usr/local/lib/python3.10/dist-packages (from torch) (1.12)\n",
            "Requirement already satisfied: networkx in /usr/local/lib/python3.10/dist-packages (from torch) (3.2.1)\n",
            "Requirement already satisfied: jinja2 in /usr/local/lib/python3.10/dist-packages (from torch) (3.1.2)\n",
            "Requirement already satisfied: fsspec in /usr/local/lib/python3.10/dist-packages (from torch) (2023.6.0)\n",
            "Requirement already satisfied: triton==2.1.0 in /usr/local/lib/python3.10/dist-packages (from torch) (2.1.0)\n",
            "Requirement already satisfied: numpy in /usr/local/lib/python3.10/dist-packages (from rdkit-pypi) (1.23.5)\n",
            "Requirement already satisfied: Pillow in /usr/local/lib/python3.10/dist-packages (from rdkit-pypi) (9.4.0)\n",
            "Requirement already satisfied: python-dateutil>=2.8.1 in /usr/local/lib/python3.10/dist-packages (from pandas) (2.8.2)\n",
            "Requirement already satisfied: pytz>=2020.1 in /usr/local/lib/python3.10/dist-packages (from pandas) (2023.3.post1)\n",
            "Requirement already satisfied: scipy>=1.3.2 in /usr/local/lib/python3.10/dist-packages (from scikit-learn) (1.11.4)\n",
            "Requirement already satisfied: joblib>=1.1.1 in /usr/local/lib/python3.10/dist-packages (from scikit-learn) (1.3.2)\n",
            "Requirement already satisfied: threadpoolctl>=2.0.0 in /usr/local/lib/python3.10/dist-packages (from scikit-learn) (3.2.0)\n",
            "Requirement already satisfied: six>=1.5 in /usr/local/lib/python3.10/dist-packages (from python-dateutil>=2.8.1->pandas) (1.16.0)\n",
            "Requirement already satisfied: MarkupSafe>=2.0 in /usr/local/lib/python3.10/dist-packages (from jinja2->torch) (2.1.3)\n",
            "Requirement already satisfied: mpmath>=0.19 in /usr/local/lib/python3.10/dist-packages (from sympy->torch) (1.3.0)\n",
            "Building wheels for collected packages: torch-scatter\n",
            "  Building wheel for torch-scatter (setup.py) ... \u001b[?25l\u001b[?25hdone\n",
            "  Created wheel for torch-scatter: filename=torch_scatter-2.1.2-cp310-cp310-linux_x86_64.whl size=495091 sha256=41ae9d472f693a738b98d828a04f607ed285ec469607360bd41105cf2e319f04\n",
            "  Stored in directory: /root/.cache/pip/wheels/92/f1/2b/3b46d54b134259f58c8363568569053248040859b1a145b3ce\n",
            "Successfully built torch-scatter\n",
            "Installing collected packages: torch-scatter, rdkit-pypi\n",
            "Successfully installed rdkit-pypi-2022.9.5 torch-scatter-2.1.2\n"
          ]
        }
      ],
      "source": [
        "# Install required libraries\n",
        "!pip install torch rdkit-pypi pandas scikit-learn torch-scatter"
      ]
    },
    {
      "cell_type": "code",
      "execution_count": null,
      "metadata": {
        "colab": {
          "base_uri": "https://localhost:8080/"
        },
        "id": "3vF9tbYBUhP8",
        "outputId": "0d34abde-d735-481f-e648-4c876f4b8652"
      },
      "outputs": [
        {
          "name": "stdout",
          "output_type": "stream",
          "text": [
            "(5530, 4)\n",
            "active          2704\n",
            "inactive        1886\n",
            "unknown          599\n",
            "intermediate     341\n",
            "Name: activity, dtype: int64\n"
          ]
        }
      ],
      "source": [
        "# Import libraries\n",
        "import numpy as np\n",
        "import pandas as pd\n",
        "import torch\n",
        "import torch.nn as nn\n",
        "import torch.optim as optim\n",
        "from torch.utils.data import DataLoader, TensorDataset\n",
        "from torch_scatter import scatter_add\n",
        "from rdkit import Chem\n",
        "from rdkit.Chem import AllChem, Descriptors\n",
        "from sklearn.model_selection import train_test_split\n",
        "from sklearn.metrics import roc_auc_score, average_precision_score, log_loss\n",
        "from sklearn.metrics import accuracy_score\n",
        "\n",
        "# Load the dataset\n",
        "df = pd.read_csv('cmpd.csv')\n",
        "\n",
        "print(df.shape)\n",
        "print(df['activity'].value_counts())\n"
      ]
    },
    {
      "cell_type": "code",
      "execution_count": null,
      "metadata": {
        "colab": {
          "base_uri": "https://localhost:8080/",
          "height": 206
        },
        "id": "3pRsRDSVoxQy",
        "outputId": "693b2682-3dc0-46ca-d689-583280064918"
      },
      "outputs": [
        {
          "data": {
            "text/html": [
              "\n",
              "  <div id=\"df-b241a60a-6fb0-49cd-bd89-7ab6f3735f8b\" class=\"colab-df-container\">\n",
              "    <div>\n",
              "<style scoped>\n",
              "    .dataframe tbody tr th:only-of-type {\n",
              "        vertical-align: middle;\n",
              "    }\n",
              "\n",
              "    .dataframe tbody tr th {\n",
              "        vertical-align: top;\n",
              "    }\n",
              "\n",
              "    .dataframe thead th {\n",
              "        text-align: right;\n",
              "    }\n",
              "</style>\n",
              "<table border=\"1\" class=\"dataframe\">\n",
              "  <thead>\n",
              "    <tr style=\"text-align: right;\">\n",
              "      <th></th>\n",
              "      <th>inchikey</th>\n",
              "      <th>smiles</th>\n",
              "      <th>group</th>\n",
              "      <th>activity</th>\n",
              "    </tr>\n",
              "  </thead>\n",
              "  <tbody>\n",
              "    <tr>\n",
              "      <th>0</th>\n",
              "      <td>FNHKPVJBJVTLMP-UHFFFAOYSA-N</td>\n",
              "      <td>CNC(=O)c1cc(Oc2ccc(NC(=O)Nc3ccc(Cl)c(C(F)(F)F)...</td>\n",
              "      <td>train</td>\n",
              "      <td>active</td>\n",
              "    </tr>\n",
              "    <tr>\n",
              "      <th>1</th>\n",
              "      <td>CUDVHEFYRIWYQD-UHFFFAOYSA-N</td>\n",
              "      <td>CNC(=O)c1cccc2cc(Oc3ccnc4cc(OCC5(N)CC5)c(OC)cc...</td>\n",
              "      <td>train</td>\n",
              "      <td>active</td>\n",
              "    </tr>\n",
              "    <tr>\n",
              "      <th>2</th>\n",
              "      <td>TTZSNFLLYPYKIL-UHFFFAOYSA-N</td>\n",
              "      <td>Cc1cc2cc(Oc3ccnc(Nc4cccc(CS(=O)(=O)NCCN(C)C)c4...</td>\n",
              "      <td>test</td>\n",
              "      <td>active</td>\n",
              "    </tr>\n",
              "    <tr>\n",
              "      <th>3</th>\n",
              "      <td>UOVCGJXDGOGOCZ-UHFFFAOYSA-N</td>\n",
              "      <td>COc1cc2c(cc1F)C(c1ccccc1Cl)=Nc1c(n[nH]c1C)N2</td>\n",
              "      <td>train</td>\n",
              "      <td>active</td>\n",
              "    </tr>\n",
              "    <tr>\n",
              "      <th>4</th>\n",
              "      <td>CUIHSIWYWATEQL-UHFFFAOYSA-N</td>\n",
              "      <td>Cc1ccc(Nc2nccc(N(C)c3ccc4c(C)n(C)nc4c3)n2)cc1S...</td>\n",
              "      <td>test</td>\n",
              "      <td>active</td>\n",
              "    </tr>\n",
              "  </tbody>\n",
              "</table>\n",
              "</div>\n",
              "    <div class=\"colab-df-buttons\">\n",
              "\n",
              "  <div class=\"colab-df-container\">\n",
              "    <button class=\"colab-df-convert\" onclick=\"convertToInteractive('df-b241a60a-6fb0-49cd-bd89-7ab6f3735f8b')\"\n",
              "            title=\"Convert this dataframe to an interactive table.\"\n",
              "            style=\"display:none;\">\n",
              "\n",
              "  <svg xmlns=\"http://www.w3.org/2000/svg\" height=\"24px\" viewBox=\"0 -960 960 960\">\n",
              "    <path d=\"M120-120v-720h720v720H120Zm60-500h600v-160H180v160Zm220 220h160v-160H400v160Zm0 220h160v-160H400v160ZM180-400h160v-160H180v160Zm440 0h160v-160H620v160ZM180-180h160v-160H180v160Zm440 0h160v-160H620v160Z\"/>\n",
              "  </svg>\n",
              "    </button>\n",
              "\n",
              "  <style>\n",
              "    .colab-df-container {\n",
              "      display:flex;\n",
              "      gap: 12px;\n",
              "    }\n",
              "\n",
              "    .colab-df-convert {\n",
              "      background-color: #E8F0FE;\n",
              "      border: none;\n",
              "      border-radius: 50%;\n",
              "      cursor: pointer;\n",
              "      display: none;\n",
              "      fill: #1967D2;\n",
              "      height: 32px;\n",
              "      padding: 0 0 0 0;\n",
              "      width: 32px;\n",
              "    }\n",
              "\n",
              "    .colab-df-convert:hover {\n",
              "      background-color: #E2EBFA;\n",
              "      box-shadow: 0px 1px 2px rgba(60, 64, 67, 0.3), 0px 1px 3px 1px rgba(60, 64, 67, 0.15);\n",
              "      fill: #174EA6;\n",
              "    }\n",
              "\n",
              "    .colab-df-buttons div {\n",
              "      margin-bottom: 4px;\n",
              "    }\n",
              "\n",
              "    [theme=dark] .colab-df-convert {\n",
              "      background-color: #3B4455;\n",
              "      fill: #D2E3FC;\n",
              "    }\n",
              "\n",
              "    [theme=dark] .colab-df-convert:hover {\n",
              "      background-color: #434B5C;\n",
              "      box-shadow: 0px 1px 3px 1px rgba(0, 0, 0, 0.15);\n",
              "      filter: drop-shadow(0px 1px 2px rgba(0, 0, 0, 0.3));\n",
              "      fill: #FFFFFF;\n",
              "    }\n",
              "  </style>\n",
              "\n",
              "    <script>\n",
              "      const buttonEl =\n",
              "        document.querySelector('#df-b241a60a-6fb0-49cd-bd89-7ab6f3735f8b button.colab-df-convert');\n",
              "      buttonEl.style.display =\n",
              "        google.colab.kernel.accessAllowed ? 'block' : 'none';\n",
              "\n",
              "      async function convertToInteractive(key) {\n",
              "        const element = document.querySelector('#df-b241a60a-6fb0-49cd-bd89-7ab6f3735f8b');\n",
              "        const dataTable =\n",
              "          await google.colab.kernel.invokeFunction('convertToInteractive',\n",
              "                                                    [key], {});\n",
              "        if (!dataTable) return;\n",
              "\n",
              "        const docLinkHtml = 'Like what you see? Visit the ' +\n",
              "          '<a target=\"_blank\" href=https://colab.research.google.com/notebooks/data_table.ipynb>data table notebook</a>'\n",
              "          + ' to learn more about interactive tables.';\n",
              "        element.innerHTML = '';\n",
              "        dataTable['output_type'] = 'display_data';\n",
              "        await google.colab.output.renderOutput(dataTable, element);\n",
              "        const docLink = document.createElement('div');\n",
              "        docLink.innerHTML = docLinkHtml;\n",
              "        element.appendChild(docLink);\n",
              "      }\n",
              "    </script>\n",
              "  </div>\n",
              "\n",
              "\n",
              "<div id=\"df-2da03aea-da30-4826-96ab-06d6fd666686\">\n",
              "  <button class=\"colab-df-quickchart\" onclick=\"quickchart('df-2da03aea-da30-4826-96ab-06d6fd666686')\"\n",
              "            title=\"Suggest charts\"\n",
              "            style=\"display:none;\">\n",
              "\n",
              "<svg xmlns=\"http://www.w3.org/2000/svg\" height=\"24px\"viewBox=\"0 0 24 24\"\n",
              "     width=\"24px\">\n",
              "    <g>\n",
              "        <path d=\"M19 3H5c-1.1 0-2 .9-2 2v14c0 1.1.9 2 2 2h14c1.1 0 2-.9 2-2V5c0-1.1-.9-2-2-2zM9 17H7v-7h2v7zm4 0h-2V7h2v10zm4 0h-2v-4h2v4z\"/>\n",
              "    </g>\n",
              "</svg>\n",
              "  </button>\n",
              "\n",
              "<style>\n",
              "  .colab-df-quickchart {\n",
              "      --bg-color: #E8F0FE;\n",
              "      --fill-color: #1967D2;\n",
              "      --hover-bg-color: #E2EBFA;\n",
              "      --hover-fill-color: #174EA6;\n",
              "      --disabled-fill-color: #AAA;\n",
              "      --disabled-bg-color: #DDD;\n",
              "  }\n",
              "\n",
              "  [theme=dark] .colab-df-quickchart {\n",
              "      --bg-color: #3B4455;\n",
              "      --fill-color: #D2E3FC;\n",
              "      --hover-bg-color: #434B5C;\n",
              "      --hover-fill-color: #FFFFFF;\n",
              "      --disabled-bg-color: #3B4455;\n",
              "      --disabled-fill-color: #666;\n",
              "  }\n",
              "\n",
              "  .colab-df-quickchart {\n",
              "    background-color: var(--bg-color);\n",
              "    border: none;\n",
              "    border-radius: 50%;\n",
              "    cursor: pointer;\n",
              "    display: none;\n",
              "    fill: var(--fill-color);\n",
              "    height: 32px;\n",
              "    padding: 0;\n",
              "    width: 32px;\n",
              "  }\n",
              "\n",
              "  .colab-df-quickchart:hover {\n",
              "    background-color: var(--hover-bg-color);\n",
              "    box-shadow: 0 1px 2px rgba(60, 64, 67, 0.3), 0 1px 3px 1px rgba(60, 64, 67, 0.15);\n",
              "    fill: var(--button-hover-fill-color);\n",
              "  }\n",
              "\n",
              "  .colab-df-quickchart-complete:disabled,\n",
              "  .colab-df-quickchart-complete:disabled:hover {\n",
              "    background-color: var(--disabled-bg-color);\n",
              "    fill: var(--disabled-fill-color);\n",
              "    box-shadow: none;\n",
              "  }\n",
              "\n",
              "  .colab-df-spinner {\n",
              "    border: 2px solid var(--fill-color);\n",
              "    border-color: transparent;\n",
              "    border-bottom-color: var(--fill-color);\n",
              "    animation:\n",
              "      spin 1s steps(1) infinite;\n",
              "  }\n",
              "\n",
              "  @keyframes spin {\n",
              "    0% {\n",
              "      border-color: transparent;\n",
              "      border-bottom-color: var(--fill-color);\n",
              "      border-left-color: var(--fill-color);\n",
              "    }\n",
              "    20% {\n",
              "      border-color: transparent;\n",
              "      border-left-color: var(--fill-color);\n",
              "      border-top-color: var(--fill-color);\n",
              "    }\n",
              "    30% {\n",
              "      border-color: transparent;\n",
              "      border-left-color: var(--fill-color);\n",
              "      border-top-color: var(--fill-color);\n",
              "      border-right-color: var(--fill-color);\n",
              "    }\n",
              "    40% {\n",
              "      border-color: transparent;\n",
              "      border-right-color: var(--fill-color);\n",
              "      border-top-color: var(--fill-color);\n",
              "    }\n",
              "    60% {\n",
              "      border-color: transparent;\n",
              "      border-right-color: var(--fill-color);\n",
              "    }\n",
              "    80% {\n",
              "      border-color: transparent;\n",
              "      border-right-color: var(--fill-color);\n",
              "      border-bottom-color: var(--fill-color);\n",
              "    }\n",
              "    90% {\n",
              "      border-color: transparent;\n",
              "      border-bottom-color: var(--fill-color);\n",
              "    }\n",
              "  }\n",
              "</style>\n",
              "\n",
              "  <script>\n",
              "    async function quickchart(key) {\n",
              "      const quickchartButtonEl =\n",
              "        document.querySelector('#' + key + ' button');\n",
              "      quickchartButtonEl.disabled = true;  // To prevent multiple clicks.\n",
              "      quickchartButtonEl.classList.add('colab-df-spinner');\n",
              "      try {\n",
              "        const charts = await google.colab.kernel.invokeFunction(\n",
              "            'suggestCharts', [key], {});\n",
              "      } catch (error) {\n",
              "        console.error('Error during call to suggestCharts:', error);\n",
              "      }\n",
              "      quickchartButtonEl.classList.remove('colab-df-spinner');\n",
              "      quickchartButtonEl.classList.add('colab-df-quickchart-complete');\n",
              "    }\n",
              "    (() => {\n",
              "      let quickchartButtonEl =\n",
              "        document.querySelector('#df-2da03aea-da30-4826-96ab-06d6fd666686 button');\n",
              "      quickchartButtonEl.style.display =\n",
              "        google.colab.kernel.accessAllowed ? 'block' : 'none';\n",
              "    })();\n",
              "  </script>\n",
              "</div>\n",
              "    </div>\n",
              "  </div>\n"
            ],
            "text/plain": [
              "                      inchikey  \\\n",
              "0  FNHKPVJBJVTLMP-UHFFFAOYSA-N   \n",
              "1  CUDVHEFYRIWYQD-UHFFFAOYSA-N   \n",
              "2  TTZSNFLLYPYKIL-UHFFFAOYSA-N   \n",
              "3  UOVCGJXDGOGOCZ-UHFFFAOYSA-N   \n",
              "4  CUIHSIWYWATEQL-UHFFFAOYSA-N   \n",
              "\n",
              "                                              smiles  group activity  \n",
              "0  CNC(=O)c1cc(Oc2ccc(NC(=O)Nc3ccc(Cl)c(C(F)(F)F)...  train   active  \n",
              "1  CNC(=O)c1cccc2cc(Oc3ccnc4cc(OCC5(N)CC5)c(OC)cc...  train   active  \n",
              "2  Cc1cc2cc(Oc3ccnc(Nc4cccc(CS(=O)(=O)NCCN(C)C)c4...   test   active  \n",
              "3       COc1cc2c(cc1F)C(c1ccccc1Cl)=Nc1c(n[nH]c1C)N2  train   active  \n",
              "4  Cc1ccc(Nc2nccc(N(C)c3ccc4c(C)n(C)nc4c3)n2)cc1S...   test   active  "
            ]
          },
          "execution_count": 6,
          "metadata": {},
          "output_type": "execute_result"
        }
      ],
      "source": [
        "df.head()"
      ]
    },
    {
      "cell_type": "code",
      "execution_count": null,
      "metadata": {
        "id": "quAty1l1oNLl"
      },
      "outputs": [],
      "source": [
        "# SMILES strings to molecular graphs\n",
        "df['mol'] = df['smiles'].apply(Chem.MolFromSmiles)\n",
        "\n",
        "# get their molecular weight\n",
        "df['molecular_weight'] = df['mol'].apply(Descriptors.MolWt)\n",
        "\n",
        "# get their Morgan fingerprints\n",
        "df['morgan_fingerprint'] = df['mol'].apply(lambda m: list(AllChem.GetMorganFingerprintAsBitVect(m, 4, nBits=2048)))"
      ]
    },
    {
      "cell_type": "code",
      "execution_count": null,
      "metadata": {
        "colab": {
          "base_uri": "https://localhost:8080/"
        },
        "id": "kRr951F4Ur07",
        "outputId": "59a80cfd-7d2a-4449-c449-ae2be30d53ae"
      },
      "outputs": [
        {
          "name": "stdout",
          "output_type": "stream",
          "text": [
            "torch.Size([5530, 2049])\n",
            "torch.Size([5530, 2048])\n"
          ]
        }
      ],
      "source": [
        "# Combine molecular weight and Morgan fingerprints as features\n",
        "X_molecular_weight = torch.tensor(df['molecular_weight'].values, dtype=torch.float32).view(-1, 1)\n",
        "X_morgan_fingerprint = torch.tensor(np.vstack(df['morgan_fingerprint']), dtype=torch.float32)\n",
        "X_combined = torch.cat([X_molecular_weight, X_morgan_fingerprint], dim=1)\n",
        "\n",
        "print(X_combined.shape)\n",
        "print(X_morgan_fingerprint.shape)"
      ]
    },
    {
      "cell_type": "code",
      "execution_count": null,
      "metadata": {
        "colab": {
          "base_uri": "https://localhost:8080/"
        },
        "id": "0ykRmoedUx36",
        "outputId": "67349abd-11a7-4534-db0f-258b687e5c0d"
      },
      "outputs": [
        {
          "name": "stdout",
          "output_type": "stream",
          "text": [
            "torch.Size([5530])\n"
          ]
        }
      ],
      "source": [
        "# Convert 'activity' column to binary (0/1) labels\n",
        "df['label'] = df['activity'].apply(lambda x: 1 if x == 'active' else 0)\n",
        "y = torch.tensor(df['label'].values, dtype=torch.float32)\n",
        "\n",
        "print(y.shape)"
      ]
    },
    {
      "cell_type": "markdown",
      "metadata": {
        "id": "jSX5L3WYIZIx"
      },
      "source": [
        "## Neural network implemetation when two features are considered - 'morgan fingerprint' and 'molecular weight' is considered of the compound"
      ]
    },
    {
      "cell_type": "code",
      "execution_count": null,
      "metadata": {
        "id": "t13oHrH6G5fK"
      },
      "outputs": [],
      "source": [
        "# Split the data into training and testing sets\n",
        "X_train, X_test, y_train, y_test = train_test_split(X_combined, y, test_size=0.2, random_state=42)"
      ]
    },
    {
      "cell_type": "code",
      "execution_count": null,
      "metadata": {
        "colab": {
          "base_uri": "https://localhost:8080/"
        },
        "id": "7kDA1EgIHH7d",
        "outputId": "04fb1265-798c-47a4-f7d7-1946691b2448"
      },
      "outputs": [
        {
          "name": "stdout",
          "output_type": "stream",
          "text": [
            "Epoch [1/100], Loss: 0.6876\n",
            "Epoch [2/100], Loss: 0.7802\n",
            "Epoch [3/100], Loss: 0.6609\n",
            "Epoch [4/100], Loss: 0.6793\n",
            "Epoch [5/100], Loss: 0.6964\n",
            "Epoch [6/100], Loss: 0.6603\n",
            "Epoch [7/100], Loss: 0.6173\n",
            "Epoch [8/100], Loss: 0.6047\n",
            "Epoch [9/100], Loss: 0.6140\n",
            "Epoch [10/100], Loss: 0.6126\n",
            "Epoch [11/100], Loss: 0.5919\n",
            "Epoch [12/100], Loss: 0.5672\n",
            "Epoch [13/100], Loss: 0.5543\n",
            "Epoch [14/100], Loss: 0.5536\n",
            "Epoch [15/100], Loss: 0.5531\n",
            "Epoch [16/100], Loss: 0.5441\n",
            "Epoch [17/100], Loss: 0.5288\n",
            "Epoch [18/100], Loss: 0.5152\n",
            "Epoch [19/100], Loss: 0.5087\n",
            "Epoch [20/100], Loss: 0.5067\n",
            "Epoch [21/100], Loss: 0.5031\n",
            "Epoch [22/100], Loss: 0.4949\n",
            "Epoch [23/100], Loss: 0.4843\n",
            "Epoch [24/100], Loss: 0.4758\n",
            "Epoch [25/100], Loss: 0.4712\n",
            "Epoch [26/100], Loss: 0.4683\n",
            "Epoch [27/100], Loss: 0.4638\n",
            "Epoch [28/100], Loss: 0.4570\n",
            "Epoch [29/100], Loss: 0.4495\n",
            "Epoch [30/100], Loss: 0.4437\n",
            "Epoch [31/100], Loss: 0.4400\n",
            "Epoch [32/100], Loss: 0.4367\n",
            "Epoch [33/100], Loss: 0.4321\n",
            "Epoch [34/100], Loss: 0.4265\n",
            "Epoch [35/100], Loss: 0.4209\n",
            "Epoch [36/100], Loss: 0.4167\n",
            "Epoch [37/100], Loss: 0.4134\n",
            "Epoch [38/100], Loss: 0.4099\n",
            "Epoch [39/100], Loss: 0.4056\n",
            "Epoch [40/100], Loss: 0.4009\n",
            "Epoch [41/100], Loss: 0.3968\n",
            "Epoch [42/100], Loss: 0.3934\n",
            "Epoch [43/100], Loss: 0.3903\n",
            "Epoch [44/100], Loss: 0.3868\n",
            "Epoch [45/100], Loss: 0.3829\n",
            "Epoch [46/100], Loss: 0.3791\n",
            "Epoch [47/100], Loss: 0.3758\n",
            "Epoch [48/100], Loss: 0.3729\n",
            "Epoch [49/100], Loss: 0.3699\n",
            "Epoch [50/100], Loss: 0.3665\n",
            "Epoch [51/100], Loss: 0.3632\n",
            "Epoch [52/100], Loss: 0.3602\n",
            "Epoch [53/100], Loss: 0.3574\n",
            "Epoch [54/100], Loss: 0.3546\n",
            "Epoch [55/100], Loss: 0.3517\n",
            "Epoch [56/100], Loss: 0.3487\n",
            "Epoch [57/100], Loss: 0.3460\n",
            "Epoch [58/100], Loss: 0.3434\n",
            "Epoch [59/100], Loss: 0.3408\n",
            "Epoch [60/100], Loss: 0.3382\n",
            "Epoch [61/100], Loss: 0.3355\n",
            "Epoch [62/100], Loss: 0.3330\n",
            "Epoch [63/100], Loss: 0.3306\n",
            "Epoch [64/100], Loss: 0.3282\n",
            "Epoch [65/100], Loss: 0.3258\n",
            "Epoch [66/100], Loss: 0.3234\n",
            "Epoch [67/100], Loss: 0.3211\n",
            "Epoch [68/100], Loss: 0.3189\n",
            "Epoch [69/100], Loss: 0.3166\n",
            "Epoch [70/100], Loss: 0.3144\n",
            "Epoch [71/100], Loss: 0.3122\n",
            "Epoch [72/100], Loss: 0.3101\n",
            "Epoch [73/100], Loss: 0.3080\n",
            "Epoch [74/100], Loss: 0.3059\n",
            "Epoch [75/100], Loss: 0.3038\n",
            "Epoch [76/100], Loss: 0.3018\n",
            "Epoch [77/100], Loss: 0.2998\n",
            "Epoch [78/100], Loss: 0.2979\n",
            "Epoch [79/100], Loss: 0.2959\n",
            "Epoch [80/100], Loss: 0.2940\n",
            "Epoch [81/100], Loss: 0.2921\n",
            "Epoch [82/100], Loss: 0.2902\n",
            "Epoch [83/100], Loss: 0.2884\n",
            "Epoch [84/100], Loss: 0.2866\n",
            "Epoch [85/100], Loss: 0.2848\n",
            "Epoch [86/100], Loss: 0.2830\n",
            "Epoch [87/100], Loss: 0.2812\n",
            "Epoch [88/100], Loss: 0.2795\n",
            "Epoch [89/100], Loss: 0.2778\n",
            "Epoch [90/100], Loss: 0.2761\n",
            "Epoch [91/100], Loss: 0.2744\n",
            "Epoch [92/100], Loss: 0.2728\n",
            "Epoch [93/100], Loss: 0.2711\n",
            "Epoch [94/100], Loss: 0.2695\n",
            "Epoch [95/100], Loss: 0.2679\n",
            "Epoch [96/100], Loss: 0.2663\n",
            "Epoch [97/100], Loss: 0.2647\n",
            "Epoch [98/100], Loss: 0.2632\n",
            "Epoch [99/100], Loss: 0.2616\n",
            "Epoch [100/100], Loss: 0.2601\n",
            "AUCPRC: 0.9330\n",
            "AUCROC: 0.9170\n",
            "Log Loss: 0.3517\n"
          ]
        }
      ],
      "source": [
        "# Define the NN architecture\n",
        "class NeuralNetwork(nn.Module):\n",
        "    def __init__(self, input_size, hidden_size, output_size):\n",
        "        super(NeuralNetwork, self).__init__()\n",
        "        self.fc1 = nn.Linear(input_size, hidden_size)\n",
        "        self.fc2 = nn.Linear(hidden_size, output_size)\n",
        "\n",
        "    def forward(self, x):\n",
        "        x = torch.relu(self.fc1(x))\n",
        "        x = torch.sigmoid(self.fc2(x))\n",
        "        return x\n",
        "\n",
        "# Instantiate the NN model\n",
        "input_size = X_combined.shape[1]  # X_combined is my input features tensor\n",
        "hidden_size = 64  # Adjusted as needed\n",
        "output_size = 1  # Binary classification, single output node with sigmoid activation\n",
        "nn_model = NeuralNetwork(input_size, hidden_size, output_size)\n",
        "\n",
        "# Define loss function and optimizer\n",
        "criterion = nn.BCELoss()  # Binary Cross Entropy Loss for binary classification\n",
        "optimizer = optim.Adam(nn_model.parameters(), lr=0.001)\n",
        "\n",
        "# Training loop\n",
        "num_epochs = 100\n",
        "for epoch in range(num_epochs):\n",
        "    # Forward pass\n",
        "    outputs = nn_model(X_train)\n",
        "\n",
        "    # Compute the loss\n",
        "    loss = criterion(outputs, y_train.view(-1, 1))\n",
        "\n",
        "    # Backward pass and optimization\n",
        "    optimizer.zero_grad()\n",
        "    loss.backward()\n",
        "    optimizer.step()\n",
        "\n",
        "    # Print training information\n",
        "    print(f'Epoch [{epoch + 1}/{num_epochs}], Loss: {loss.item():.4f}')\n",
        "\n",
        "# After training, use the model for predictions on the test set\n",
        "with torch.no_grad():\n",
        "    nn_model.eval()\n",
        "    y_pred_prob = nn_model(X_test).squeeze().numpy()\n",
        "\n",
        "# Calculate evaluation metrics\n",
        "aucprc = average_precision_score(y_test.numpy(), y_pred_prob)\n",
        "aucroc = roc_auc_score(y_test.numpy(), y_pred_prob)\n",
        "loss = log_loss(y_test.numpy(), y_pred_prob)\n",
        "\n",
        "# Print evaluation metrics\n",
        "print(f'AUCPRC: {aucprc:.4f}')\n",
        "print(f'AUCROC: {aucroc:.4f}')\n",
        "print(f'Log Loss: {loss:.4f}')"
      ]
    },
    {
      "cell_type": "markdown",
      "metadata": {
        "id": "urGVnGX0IJDt"
      },
      "source": [
        "## Neural network implementation when only one feature - 'morgan fingerprint' is considered of the compound"
      ]
    },
    {
      "cell_type": "code",
      "execution_count": null,
      "metadata": {
        "id": "KdlJBGSIRqOw"
      },
      "outputs": [],
      "source": [
        "# Split the data into training and testing sets\n",
        "Xmf_train, Xmf_test, ymf_train, ymf_test = train_test_split(X_morgan_fingerprint, y, test_size=0.2, random_state=42)"
      ]
    },
    {
      "cell_type": "code",
      "execution_count": null,
      "metadata": {
        "colab": {
          "base_uri": "https://localhost:8080/"
        },
        "id": "UeU-cGohPdEH",
        "outputId": "f2b5769c-414a-460f-8f53-6a19762c716c"
      },
      "outputs": [
        {
          "name": "stdout",
          "output_type": "stream",
          "text": [
            "torch.Size([4424, 1]) torch.Size([4424, 1])\n",
            "Epoch [1/100], Loss: 0.6913\n",
            "torch.Size([4424, 1]) torch.Size([4424, 1])\n",
            "Epoch [2/100], Loss: 0.6695\n",
            "torch.Size([4424, 1]) torch.Size([4424, 1])\n",
            "Epoch [3/100], Loss: 0.6479\n",
            "torch.Size([4424, 1]) torch.Size([4424, 1])\n",
            "Epoch [4/100], Loss: 0.6248\n",
            "torch.Size([4424, 1]) torch.Size([4424, 1])\n",
            "Epoch [5/100], Loss: 0.6009\n",
            "torch.Size([4424, 1]) torch.Size([4424, 1])\n",
            "Epoch [6/100], Loss: 0.5770\n",
            "torch.Size([4424, 1]) torch.Size([4424, 1])\n",
            "Epoch [7/100], Loss: 0.5538\n",
            "torch.Size([4424, 1]) torch.Size([4424, 1])\n",
            "Epoch [8/100], Loss: 0.5316\n",
            "torch.Size([4424, 1]) torch.Size([4424, 1])\n",
            "Epoch [9/100], Loss: 0.5102\n",
            "torch.Size([4424, 1]) torch.Size([4424, 1])\n",
            "Epoch [10/100], Loss: 0.4899\n",
            "torch.Size([4424, 1]) torch.Size([4424, 1])\n",
            "Epoch [11/100], Loss: 0.4707\n",
            "torch.Size([4424, 1]) torch.Size([4424, 1])\n",
            "Epoch [12/100], Loss: 0.4528\n",
            "torch.Size([4424, 1]) torch.Size([4424, 1])\n",
            "Epoch [13/100], Loss: 0.4361\n",
            "torch.Size([4424, 1]) torch.Size([4424, 1])\n",
            "Epoch [14/100], Loss: 0.4207\n",
            "torch.Size([4424, 1]) torch.Size([4424, 1])\n",
            "Epoch [15/100], Loss: 0.4064\n",
            "torch.Size([4424, 1]) torch.Size([4424, 1])\n",
            "Epoch [16/100], Loss: 0.3931\n",
            "torch.Size([4424, 1]) torch.Size([4424, 1])\n",
            "Epoch [17/100], Loss: 0.3809\n",
            "torch.Size([4424, 1]) torch.Size([4424, 1])\n",
            "Epoch [18/100], Loss: 0.3695\n",
            "torch.Size([4424, 1]) torch.Size([4424, 1])\n",
            "Epoch [19/100], Loss: 0.3591\n",
            "torch.Size([4424, 1]) torch.Size([4424, 1])\n",
            "Epoch [20/100], Loss: 0.3494\n",
            "torch.Size([4424, 1]) torch.Size([4424, 1])\n",
            "Epoch [21/100], Loss: 0.3404\n",
            "torch.Size([4424, 1]) torch.Size([4424, 1])\n",
            "Epoch [22/100], Loss: 0.3321\n",
            "torch.Size([4424, 1]) torch.Size([4424, 1])\n",
            "Epoch [23/100], Loss: 0.3243\n",
            "torch.Size([4424, 1]) torch.Size([4424, 1])\n",
            "Epoch [24/100], Loss: 0.3170\n",
            "torch.Size([4424, 1]) torch.Size([4424, 1])\n",
            "Epoch [25/100], Loss: 0.3101\n",
            "torch.Size([4424, 1]) torch.Size([4424, 1])\n",
            "Epoch [26/100], Loss: 0.3037\n",
            "torch.Size([4424, 1]) torch.Size([4424, 1])\n",
            "Epoch [27/100], Loss: 0.2975\n",
            "torch.Size([4424, 1]) torch.Size([4424, 1])\n",
            "Epoch [28/100], Loss: 0.2917\n",
            "torch.Size([4424, 1]) torch.Size([4424, 1])\n",
            "Epoch [29/100], Loss: 0.2861\n",
            "torch.Size([4424, 1]) torch.Size([4424, 1])\n",
            "Epoch [30/100], Loss: 0.2808\n",
            "torch.Size([4424, 1]) torch.Size([4424, 1])\n",
            "Epoch [31/100], Loss: 0.2757\n",
            "torch.Size([4424, 1]) torch.Size([4424, 1])\n",
            "Epoch [32/100], Loss: 0.2708\n",
            "torch.Size([4424, 1]) torch.Size([4424, 1])\n",
            "Epoch [33/100], Loss: 0.2661\n",
            "torch.Size([4424, 1]) torch.Size([4424, 1])\n",
            "Epoch [34/100], Loss: 0.2616\n",
            "torch.Size([4424, 1]) torch.Size([4424, 1])\n",
            "Epoch [35/100], Loss: 0.2571\n",
            "torch.Size([4424, 1]) torch.Size([4424, 1])\n",
            "Epoch [36/100], Loss: 0.2529\n",
            "torch.Size([4424, 1]) torch.Size([4424, 1])\n",
            "Epoch [37/100], Loss: 0.2488\n",
            "torch.Size([4424, 1]) torch.Size([4424, 1])\n",
            "Epoch [38/100], Loss: 0.2448\n",
            "torch.Size([4424, 1]) torch.Size([4424, 1])\n",
            "Epoch [39/100], Loss: 0.2409\n",
            "torch.Size([4424, 1]) torch.Size([4424, 1])\n",
            "Epoch [40/100], Loss: 0.2371\n",
            "torch.Size([4424, 1]) torch.Size([4424, 1])\n",
            "Epoch [41/100], Loss: 0.2335\n",
            "torch.Size([4424, 1]) torch.Size([4424, 1])\n",
            "Epoch [42/100], Loss: 0.2299\n",
            "torch.Size([4424, 1]) torch.Size([4424, 1])\n",
            "Epoch [43/100], Loss: 0.2264\n",
            "torch.Size([4424, 1]) torch.Size([4424, 1])\n",
            "Epoch [44/100], Loss: 0.2231\n",
            "torch.Size([4424, 1]) torch.Size([4424, 1])\n",
            "Epoch [45/100], Loss: 0.2198\n",
            "torch.Size([4424, 1]) torch.Size([4424, 1])\n",
            "Epoch [46/100], Loss: 0.2165\n",
            "torch.Size([4424, 1]) torch.Size([4424, 1])\n",
            "Epoch [47/100], Loss: 0.2134\n",
            "torch.Size([4424, 1]) torch.Size([4424, 1])\n",
            "Epoch [48/100], Loss: 0.2103\n",
            "torch.Size([4424, 1]) torch.Size([4424, 1])\n",
            "Epoch [49/100], Loss: 0.2073\n",
            "torch.Size([4424, 1]) torch.Size([4424, 1])\n",
            "Epoch [50/100], Loss: 0.2043\n",
            "torch.Size([4424, 1]) torch.Size([4424, 1])\n",
            "Epoch [51/100], Loss: 0.2014\n",
            "torch.Size([4424, 1]) torch.Size([4424, 1])\n",
            "Epoch [52/100], Loss: 0.1986\n",
            "torch.Size([4424, 1]) torch.Size([4424, 1])\n",
            "Epoch [53/100], Loss: 0.1958\n",
            "torch.Size([4424, 1]) torch.Size([4424, 1])\n",
            "Epoch [54/100], Loss: 0.1931\n",
            "torch.Size([4424, 1]) torch.Size([4424, 1])\n",
            "Epoch [55/100], Loss: 0.1905\n",
            "torch.Size([4424, 1]) torch.Size([4424, 1])\n",
            "Epoch [56/100], Loss: 0.1879\n",
            "torch.Size([4424, 1]) torch.Size([4424, 1])\n",
            "Epoch [57/100], Loss: 0.1854\n",
            "torch.Size([4424, 1]) torch.Size([4424, 1])\n",
            "Epoch [58/100], Loss: 0.1829\n",
            "torch.Size([4424, 1]) torch.Size([4424, 1])\n",
            "Epoch [59/100], Loss: 0.1804\n",
            "torch.Size([4424, 1]) torch.Size([4424, 1])\n",
            "Epoch [60/100], Loss: 0.1780\n",
            "torch.Size([4424, 1]) torch.Size([4424, 1])\n",
            "Epoch [61/100], Loss: 0.1757\n",
            "torch.Size([4424, 1]) torch.Size([4424, 1])\n",
            "Epoch [62/100], Loss: 0.1734\n",
            "torch.Size([4424, 1]) torch.Size([4424, 1])\n",
            "Epoch [63/100], Loss: 0.1711\n",
            "torch.Size([4424, 1]) torch.Size([4424, 1])\n",
            "Epoch [64/100], Loss: 0.1689\n",
            "torch.Size([4424, 1]) torch.Size([4424, 1])\n",
            "Epoch [65/100], Loss: 0.1667\n",
            "torch.Size([4424, 1]) torch.Size([4424, 1])\n",
            "Epoch [66/100], Loss: 0.1645\n",
            "torch.Size([4424, 1]) torch.Size([4424, 1])\n",
            "Epoch [67/100], Loss: 0.1624\n",
            "torch.Size([4424, 1]) torch.Size([4424, 1])\n",
            "Epoch [68/100], Loss: 0.1603\n",
            "torch.Size([4424, 1]) torch.Size([4424, 1])\n",
            "Epoch [69/100], Loss: 0.1582\n",
            "torch.Size([4424, 1]) torch.Size([4424, 1])\n",
            "Epoch [70/100], Loss: 0.1562\n",
            "torch.Size([4424, 1]) torch.Size([4424, 1])\n",
            "Epoch [71/100], Loss: 0.1542\n",
            "torch.Size([4424, 1]) torch.Size([4424, 1])\n",
            "Epoch [72/100], Loss: 0.1523\n",
            "torch.Size([4424, 1]) torch.Size([4424, 1])\n",
            "Epoch [73/100], Loss: 0.1503\n",
            "torch.Size([4424, 1]) torch.Size([4424, 1])\n",
            "Epoch [74/100], Loss: 0.1484\n",
            "torch.Size([4424, 1]) torch.Size([4424, 1])\n",
            "Epoch [75/100], Loss: 0.1465\n",
            "torch.Size([4424, 1]) torch.Size([4424, 1])\n",
            "Epoch [76/100], Loss: 0.1447\n",
            "torch.Size([4424, 1]) torch.Size([4424, 1])\n",
            "Epoch [77/100], Loss: 0.1429\n",
            "torch.Size([4424, 1]) torch.Size([4424, 1])\n",
            "Epoch [78/100], Loss: 0.1411\n",
            "torch.Size([4424, 1]) torch.Size([4424, 1])\n",
            "Epoch [79/100], Loss: 0.1393\n",
            "torch.Size([4424, 1]) torch.Size([4424, 1])\n",
            "Epoch [80/100], Loss: 0.1375\n",
            "torch.Size([4424, 1]) torch.Size([4424, 1])\n",
            "Epoch [81/100], Loss: 0.1358\n",
            "torch.Size([4424, 1]) torch.Size([4424, 1])\n",
            "Epoch [82/100], Loss: 0.1341\n",
            "torch.Size([4424, 1]) torch.Size([4424, 1])\n",
            "Epoch [83/100], Loss: 0.1324\n",
            "torch.Size([4424, 1]) torch.Size([4424, 1])\n",
            "Epoch [84/100], Loss: 0.1308\n",
            "torch.Size([4424, 1]) torch.Size([4424, 1])\n",
            "Epoch [85/100], Loss: 0.1291\n",
            "torch.Size([4424, 1]) torch.Size([4424, 1])\n",
            "Epoch [86/100], Loss: 0.1275\n",
            "torch.Size([4424, 1]) torch.Size([4424, 1])\n",
            "Epoch [87/100], Loss: 0.1259\n",
            "torch.Size([4424, 1]) torch.Size([4424, 1])\n",
            "Epoch [88/100], Loss: 0.1244\n",
            "torch.Size([4424, 1]) torch.Size([4424, 1])\n",
            "Epoch [89/100], Loss: 0.1228\n",
            "torch.Size([4424, 1]) torch.Size([4424, 1])\n",
            "Epoch [90/100], Loss: 0.1213\n",
            "torch.Size([4424, 1]) torch.Size([4424, 1])\n",
            "Epoch [91/100], Loss: 0.1198\n",
            "torch.Size([4424, 1]) torch.Size([4424, 1])\n",
            "Epoch [92/100], Loss: 0.1183\n",
            "torch.Size([4424, 1]) torch.Size([4424, 1])\n",
            "Epoch [93/100], Loss: 0.1168\n",
            "torch.Size([4424, 1]) torch.Size([4424, 1])\n",
            "Epoch [94/100], Loss: 0.1154\n",
            "torch.Size([4424, 1]) torch.Size([4424, 1])\n",
            "Epoch [95/100], Loss: 0.1139\n",
            "torch.Size([4424, 1]) torch.Size([4424, 1])\n",
            "Epoch [96/100], Loss: 0.1125\n",
            "torch.Size([4424, 1]) torch.Size([4424, 1])\n",
            "Epoch [97/100], Loss: 0.1111\n",
            "torch.Size([4424, 1]) torch.Size([4424, 1])\n",
            "Epoch [98/100], Loss: 0.1098\n",
            "torch.Size([4424, 1]) torch.Size([4424, 1])\n",
            "Epoch [99/100], Loss: 0.1084\n",
            "torch.Size([4424, 1]) torch.Size([4424, 1])\n",
            "Epoch [100/100], Loss: 0.1071\n",
            "AUCPRC: 0.9240\n",
            "AUCROC: 0.9114\n",
            "Log Loss: 0.4550\n"
          ]
        }
      ],
      "source": [
        "# Define the GNN architecture\n",
        "class NeuralNetwork(nn.Module):\n",
        "    def __init__(self, input_size, hidden_size, output_size):\n",
        "        super(NeuralNetwork, self).__init__()\n",
        "        self.fc1 = nn.Linear(input_size, hidden_size)\n",
        "        self.fc2 = nn.Linear(hidden_size, output_size)\n",
        "\n",
        "    def forward(self, x):\n",
        "        x = torch.relu(self.fc1(x))\n",
        "        x = torch.sigmoid(self.fc2(x))\n",
        "        return x\n",
        "\n",
        "# Instantiate the GNN model\n",
        "input_size = X_morgan_fingerprint.shape[1]  # X_morgan_fingerprint is my input feature tensor\n",
        "hidden_size = 64  # Adjust as needed\n",
        "output_size = 1  # Binary classification\n",
        "nn_model = NeuralNetwork(input_size, hidden_size, output_size)\n",
        "\n",
        "# Define loss function and optimizer\n",
        "criterion = nn.BCELoss()  # Binary Cross Entropy Loss for binary classification\n",
        "optimizer = optim.Adam(nn_model.parameters(), lr=0.001)\n",
        "\n",
        "# Training loop\n",
        "num_epochs = 100\n",
        "for epoch in range(num_epochs):\n",
        "\n",
        "    # Forward pass\n",
        "    outputs = nn_model(Xmf_train)  # Use X_morgan_fingerprint directly\n",
        "\n",
        "    # Print sizes for debugging\n",
        "    print(outputs.size(), ymf_train.view(-1, 1).size())\n",
        "\n",
        "    # Compute the loss\n",
        "    loss = criterion(outputs, ymf_train.view(-1, 1))\n",
        "\n",
        "    # Backward pass and optimization\n",
        "    optimizer.zero_grad()\n",
        "    loss.backward()\n",
        "    optimizer.step()\n",
        "\n",
        "    # Print training information\n",
        "    print(f'Epoch [{epoch + 1}/{num_epochs}], Loss: {loss.item():.4f}')\n",
        "\n",
        "# After training, use the model for predictions on the test set\n",
        "with torch.no_grad():\n",
        "    nn_model.eval()\n",
        "    y_pred_prob = nn_model(Xmf_test).squeeze().numpy()  # Use X_morgan_fingerprint_test for test set\n",
        "\n",
        "# Calculate evaluation metrics\n",
        "aucprc = average_precision_score(y_test.numpy(), y_pred_prob)\n",
        "aucroc = roc_auc_score(y_test.numpy(), y_pred_prob)\n",
        "loss = log_loss(y_test.numpy(), y_pred_prob)\n",
        "\n",
        "# Print evaluation metrics\n",
        "print(f'AUCPRC: {aucprc:.4f}')\n",
        "print(f'AUCROC: {aucroc:.4f}')\n",
        "print(f'Log Loss: {loss:.4f}')\n"
      ]
    }
  ],
  "metadata": {
    "colab": {
      "provenance": [],
      "include_colab_link": true
    },
    "kernelspec": {
      "display_name": "Python 3",
      "language": "python",
      "name": "python3"
    },
    "language_info": {
      "codemirror_mode": {
        "name": "ipython",
        "version": 2
      },
      "file_extension": ".py",
      "mimetype": "text/x-python",
      "name": "python",
      "nbconvert_exporter": "python",
      "pygments_lexer": "ipython2",
      "version": "2.7.6"
    }
  },
  "nbformat": 4,
  "nbformat_minor": 0
}